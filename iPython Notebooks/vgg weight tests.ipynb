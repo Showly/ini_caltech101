{
 "cells": [
  {
   "cell_type": "code",
   "execution_count": 2,
   "metadata": {},
   "outputs": [],
   "source": [
    "import numpy as np\n",
    "from matplotlib.pyplot import imshow\n",
    "%matplotlib inline"
   ]
  },
  {
   "cell_type": "code",
   "execution_count": 3,
   "metadata": {},
   "outputs": [],
   "source": [
    "import h5py\n",
    "import pandas as pd"
   ]
  },
  {
   "cell_type": "code",
   "execution_count": 4,
   "metadata": {},
   "outputs": [],
   "source": [
    "vgg_cnn_s = np.load('vgg_cnn_s')"
   ]
  },
  {
   "cell_type": "code",
   "execution_count": 27,
   "metadata": {},
   "outputs": [
    {
     "data": {
      "text/html": [
       "<div>\n",
       "<table border=\"1\" class=\"dataframe\">\n",
       "  <thead>\n",
       "    <tr style=\"text-align: right;\">\n",
       "      <th></th>\n",
       "      <th>0</th>\n",
       "      <th>1</th>\n",
       "    </tr>\n",
       "  </thead>\n",
       "  <tbody>\n",
       "    <tr>\n",
       "      <th>0</th>\n",
       "      <td>[[[[ 0.00694627  0.02646671  0.05854246  0.070...</td>\n",
       "      <td>[-1.82763, -0.886888, -1.12296, -1.38647, -0.8...</td>\n",
       "    </tr>\n",
       "    <tr>\n",
       "      <th>1</th>\n",
       "      <td>[[[[ 0.01162354  0.00300351  0.00242298  0.005...</td>\n",
       "      <td>[-0.0133935, 0.144076, -0.0797717, -0.0408563,...</td>\n",
       "    </tr>\n",
       "    <tr>\n",
       "      <th>2</th>\n",
       "      <td>[[[[-0.01205447 -0.01284794 -0.00854727], [-0....</td>\n",
       "      <td>[0.0338069, -0.0286629, 0.196591, -0.13316, -0...</td>\n",
       "    </tr>\n",
       "    <tr>\n",
       "      <th>3</th>\n",
       "      <td>[[[[-0.01593209 -0.00740766 -0.00531611], [-0....</td>\n",
       "      <td>[-0.342225, -0.0572309, -0.0629671, 0.383994, ...</td>\n",
       "    </tr>\n",
       "    <tr>\n",
       "      <th>4</th>\n",
       "      <td>[[[[-0.00664671  0.0014371  -0.00600124], [-0....</td>\n",
       "      <td>[0.209937, 0.757988, 0.0250057, 0.957419, 0.00...</td>\n",
       "    </tr>\n",
       "  </tbody>\n",
       "</table>\n",
       "</div>"
      ]
     },
     "output_type": "execute_result",
     "metadata": {}
    }
   ],
   "source": [
    "pd.DataFrame(vgg_cnn_s).head()"
   ]
  },
  {
   "cell_type": "code",
   "execution_count": 9,
   "metadata": {},
   "outputs": [
    {
     "name": "stdout",
     "output_type": "stream",
     "text": [
      "(96, 3, 7, 7) (96,)\n",
      "(256, 96, 5, 5) (256,)\n",
      "(512, 256, 3, 3) (512,)\n",
      "(512, 512, 3, 3) (512,)\n",
      "(512, 512, 3, 3) (512,)\n"
     ]
    }
   ],
   "source": [
    "print vgg_cnn_s[0][0].shape, vgg_cnn_s[0][1].shape\n",
    "print vgg_cnn_s[1][0].shape, vgg_cnn_s[1][1].shape\n",
    "print vgg_cnn_s[2][0].shape, vgg_cnn_s[2][1].shape\n",
    "print vgg_cnn_s[3][0].shape, vgg_cnn_s[3][1].shape\n",
    "print vgg_cnn_s[4][0].shape, vgg_cnn_s[4][1].shape"
   ]
  },
  {
   "cell_type": "code",
   "execution_count": 22,
   "metadata": {},
   "outputs": [],
   "source": [
    "f = h5py.File('weights', 'r+')"
   ]
  },
  {
   "cell_type": "code",
   "execution_count": 23,
   "metadata": {},
   "outputs": [
    {
     "data": {
      "text/plain": [
       "<HDF5 file \"weights\" (mode r+)>"
      ]
     },
     "execution_count": 23,
     "output_type": "execute_result",
     "metadata": {}
    }
   ],
   "source": [
    "f"
   ]
  },
  {
   "cell_type": "code",
   "execution_count": 13,
   "metadata": {},
   "outputs": [
    {
     "data": {
      "text/plain": [
       "[u'layer_0',\n",
       " u'layer_1',\n",
       " u'layer_10',\n",
       " u'layer_11',\n",
       " u'layer_12',\n",
       " u'layer_13',\n",
       " u'layer_14',\n",
       " u'layer_15',\n",
       " u'layer_16',\n",
       " u'layer_17',\n",
       " u'layer_18',\n",
       " u'layer_19',\n",
       " u'layer_2',\n",
       " u'layer_20',\n",
       " u'layer_21',\n",
       " u'layer_22',\n",
       " u'layer_3',\n",
       " u'layer_4',\n",
       " u'layer_5',\n",
       " u'layer_6',\n",
       " u'layer_7',\n",
       " u'layer_8',\n",
       " u'layer_9']"
      ]
     },
     "execution_count": 13,
     "output_type": "execute_result",
     "metadata": {}
    }
   ],
   "source": [
    "f.keys()"
   ]
  },
  {
   "cell_type": "code",
   "execution_count": 15,
   "metadata": {},
   "outputs": [
    {
     "data": {
      "text/plain": [
       "u'/layer_0'"
      ]
     },
     "execution_count": 15,
     "output_type": "execute_result",
     "metadata": {}
    }
   ],
   "source": [
    "f['layer_0'].name"
   ]
  },
  {
   "cell_type": "code",
   "execution_count": 28,
   "metadata": {},
   "outputs": [],
   "source": [
    "def print_structure(weight_file_path):\n",
    "    \"\"\"\n",
    "    Prints out the structure of HDF5 file.\n",
    "\n",
    "    Args:\n",
    "      weight_file_path (str) : Path to the file to analyze\n",
    "    \"\"\"\n",
    "    f = h5py.File(weight_file_path)\n",
    "    try:\n",
    "        if len(f.attrs.items()):\n",
    "            print(\"{} contains: \".format(weight_file_path))\n",
    "            print(\"Root attributes:\")\n",
    "        for key, value in f.attrs.items():\n",
    "            print(\"  {}: {}\".format(key, value))\n",
    "\n",
    "        if len(f.items())==0:\n",
    "            return \n",
    "\n",
    "        for layer, g in f.items():\n",
    "            print(\"  {}\".format(layer))\n",
    "            print(\"    Attributes:\")\n",
    "            for key, value in g.attrs.items():\n",
    "                print(\"      {}: {}\".format(key, value))\n",
    "\n",
    "            print(\"    Dataset:\")\n",
    "            for p_name in g.keys():\n",
    "                param = g[p_name]\n",
    "                print(\"      {}: {}\".format(p_name, param.shape))\n",
    "    finally:\n",
    "        f.close()"
   ]
  },
  {
   "cell_type": "code",
   "execution_count": 26,
   "metadata": {},
   "outputs": [],
   "source": [
    "def change_weights(weight_file_path, new_weights):\n",
    "    f = h5py.File(weight_file_path)\n",
    "    try:\n",
    "        conv1 = f['layer_0']\n",
    "        conv1['param_0'][...] = new_weights[0][0]\n",
    "        conv1['param_1'][...] = new_weights[0][1]\n",
    "\n",
    "        conv2 = f['layer_4']\n",
    "        conv2['param_0'][...] = new_weights[1][0]\n",
    "        conv2['param_1'][...] = new_weights[1][1]\n",
    "        \n",
    "        conv3 = f['layer_8']\n",
    "        conv3['param_0'][...] = new_weights[2][0]\n",
    "        conv3['param_1'][...] = new_weights[2][1]\n",
    "        \n",
    "        conv4 = f['layer_11']\n",
    "        conv4['param_0'][...] = new_weights[3][0]\n",
    "        conv4['param_1'][...] = new_weights[3][1]\n",
    "        \n",
    "        conv5 = f['layer_14']\n",
    "        conv5['param_0'][...] = new_weights[4][0]\n",
    "        conv5['param_1'][...] = new_weights[4][1]\n",
    "    finally:\n",
    "        f.close()"
   ]
  },
  {
   "cell_type": "code",
   "execution_count": 16,
   "metadata": {},
   "outputs": [
    {
     "name": "stdout",
     "output_type": "stream",
     "text": [
      "<HDF5 dataset \"param_0\": shape (96, 3, 7, 7), type \"<f4\">\n"
     ]
    }
   ],
   "source": [
    "print f['layer_0'].get('param_0')"
   ]
  },
  {
   "cell_type": "code",
   "execution_count": 18,
   "metadata": {},
   "outputs": [],
   "source": [
    "asdf = f['layer_0'].get('param_0')"
   ]
  },
  {
   "cell_type": "code",
   "execution_count": 20,
   "metadata": {},
   "outputs": [
    {
     "data": {
      "text/plain": [
       "array([[[ 0.02548014, -0.06538861,  0.03427604, -0.13627921, -0.04770178,\n",
       "         -0.07539975, -0.12781651],\n",
       "        [ 0.13489287,  0.08771172,  0.09096535, -0.13301775,  0.01225658,\n",
       "          0.0806352 , -0.11605887],\n",
       "        [-0.01556606, -0.08722959, -0.01264033, -0.03602605,  0.10978924,\n",
       "         -0.09944959,  0.09035392],\n",
       "        [-0.13011971,  0.07116457,  0.04754036, -0.10533587, -0.1276117 ,\n",
       "         -0.1295224 ,  0.07363286],\n",
       "        [-0.08034378, -0.13521312, -0.03021518, -0.06360974, -0.13557921,\n",
       "          0.09752652, -0.02517726],\n",
       "        [ 0.1242402 ,  0.01471879, -0.06720894, -0.06977405,  0.01169972,\n",
       "         -0.10978332, -0.10963474],\n",
       "        [ 0.10048558,  0.15640958,  0.12675501,  0.15533942,  0.15712398,\n",
       "          0.12677784, -0.07439639]],\n",
       "\n",
       "       [[-0.02161234, -0.10741585, -0.01408091, -0.13715145, -0.02592061,\n",
       "          0.14533307, -0.11617971],\n",
       "        [-0.08179731,  0.10103124, -0.08962483,  0.04237138, -0.00033962,\n",
       "         -0.14067787, -0.0243728 ],\n",
       "        [-0.04793482,  0.00951129, -0.06221853, -0.01345479, -0.01131842,\n",
       "         -0.06283922,  0.12585637],\n",
       "        [-0.11278325, -0.1030262 ,  0.03350245, -0.02956866, -0.00833522,\n",
       "         -0.11073205,  0.07091075],\n",
       "        [ 0.04107042, -0.14902087, -0.1114624 ,  0.1177205 , -0.03370648,\n",
       "         -0.09786589,  0.03641201],\n",
       "        [-0.05553229,  0.00260018,  0.06420058, -0.00226239, -0.05616204,\n",
       "          0.14295442,  0.07985342],\n",
       "        [ 0.13677363, -0.08516263, -0.10334473, -0.07759965,  0.02072536,\n",
       "         -0.0521805 , -0.09265083]],\n",
       "\n",
       "       [[ 0.00270004, -0.07214404,  0.00908835,  0.15082052,  0.0499842 ,\n",
       "          0.11182606,  0.10538261],\n",
       "        [-0.13372229,  0.03068919, -0.1148195 ,  0.04217823, -0.0394975 ,\n",
       "         -0.03899419, -0.13411658],\n",
       "        [-0.00296089,  0.01962284,  0.13336962,  0.03162592, -0.08977642,\n",
       "         -0.10284018,  0.02554379],\n",
       "        [-0.13586789,  0.11555329, -0.04505438, -0.15131064,  0.06548267,\n",
       "          0.11671963, -0.08292415],\n",
       "        [-0.08721323, -0.10246135, -0.15126288, -0.04340901, -0.04474529,\n",
       "         -0.13956285,  0.01209461],\n",
       "        [-0.09109583, -0.01816214,  0.14508684,  0.13572754, -0.06865519,\n",
       "         -0.07617836,  0.05933117],\n",
       "        [ 0.00864844, -0.00221048, -0.1397745 , -0.08355641,  0.04852821,\n",
       "         -0.00936029, -0.11997789]]], dtype=float32)"
      ]
     },
     "execution_count": 20,
     "output_type": "execute_result",
     "metadata": {}
    }
   ],
   "source": [
    "asdf[0]"
   ]
  },
  {
   "cell_type": "code",
   "execution_count": 24,
   "metadata": {},
   "outputs": [],
   "source": [
    "f['layer_0']['param_0'][...] = vgg_cnn_s[0][0]"
   ]
  },
  {
   "cell_type": "code",
   "execution_count": 25,
   "metadata": {},
   "outputs": [
    {
     "data": {
      "text/plain": [
       "array([[[ 0.00694627,  0.02646671,  0.05854246,  0.07002522,  0.05759254,\n",
       "          0.03870812,  0.02337969],\n",
       "        [ 0.08435953,  0.09220244,  0.10526367,  0.08194241,  0.03989906,\n",
       "          0.00606399, -0.03152299],\n",
       "        [ 0.06690404,  0.03335963,  0.01511758, -0.02870195, -0.06920688,\n",
       "         -0.07811891, -0.08331555],\n",
       "        [-0.02874666, -0.07674399, -0.11440271, -0.13730878, -0.13998373,\n",
       "         -0.12641636, -0.10048065],\n",
       "        [-0.06586082, -0.08039068, -0.09174092, -0.07055084, -0.0390115 ,\n",
       "         -0.02588682, -0.00479862],\n",
       "        [-0.03722067, -0.01418383,  0.0072077 ,  0.04982315,  0.08338538,\n",
       "          0.06537562,  0.05121973],\n",
       "        [ 0.04100299,  0.06384245,  0.07978272,  0.08332521,  0.082433  ,\n",
       "          0.03156103,  0.01439718]],\n",
       "\n",
       "       [[ 0.03847783,  0.07092094,  0.0959575 ,  0.11260303,  0.08716433,\n",
       "          0.06934885,  0.03955302],\n",
       "        [ 0.1137189 ,  0.12945727,  0.12917131,  0.10784075,  0.04773989,\n",
       "          0.01424819, -0.03682533],\n",
       "        [ 0.07671945,  0.04690662,  0.01045982, -0.03362985, -0.09270442,\n",
       "         -0.09734753, -0.10887107],\n",
       "        [-0.0444563 , -0.09283359, -0.14948863, -0.17099926, -0.18635793,\n",
       "         -0.15795279, -0.13028647],\n",
       "        [-0.09740911, -0.11031818, -0.13368763, -0.10072896, -0.07318679,\n",
       "         -0.04162221, -0.01942634],\n",
       "        [-0.06235784, -0.0295576 , -0.01149722,  0.04790862,  0.08051248,\n",
       "          0.07668999,  0.05728799],\n",
       "        [ 0.03338547,  0.07335793,  0.08975421,  0.11035826,  0.10491601,\n",
       "          0.0645581 ,  0.03795421]],\n",
       "\n",
       "       [[ 0.03255299,  0.05110734,  0.08086216,  0.08938966,  0.07402986,\n",
       "          0.0518801 ,  0.02995383],\n",
       "        [ 0.11320969,  0.11547723,  0.12107202,  0.09288295,  0.04424085,\n",
       "          0.00533183, -0.03988756],\n",
       "        [ 0.08205796,  0.04265503,  0.01506102, -0.03470007, -0.08395159,\n",
       "         -0.09585628, -0.10398778],\n",
       "        [-0.03259365, -0.08704484, -0.13481469, -0.16207834, -0.16951641,\n",
       "         -0.15112592, -0.12041606],\n",
       "        [-0.08401604, -0.1035767 , -0.11835054, -0.09386368, -0.06054021,\n",
       "         -0.03887803, -0.01182559],\n",
       "        [-0.05254844, -0.02919538, -0.00573708,  0.04406214,  0.08207894,\n",
       "          0.07220601,  0.06397042],\n",
       "        [ 0.04217663,  0.07012145,  0.08967672,  0.10040171,  0.10208978,\n",
       "          0.05964318,  0.04800854]]], dtype=float32)"
      ]
     },
     "execution_count": 25,
     "output_type": "execute_result",
     "metadata": {}
    }
   ],
   "source": [
    "f['layer_0'].get('param_0')[0]"
   ]
  },
  {
   "cell_type": "code",
   "execution_count": 27,
   "metadata": {},
   "outputs": [
    {
     "data": {
      "text/plain": [
       "array([[[ 0.00694627,  0.02646671,  0.05854246,  0.07002522,  0.05759254,\n",
       "          0.03870812,  0.02337969],\n",
       "        [ 0.08435953,  0.09220244,  0.10526367,  0.08194241,  0.03989906,\n",
       "          0.00606399, -0.03152299],\n",
       "        [ 0.06690404,  0.03335963,  0.01511758, -0.02870195, -0.06920688,\n",
       "         -0.07811891, -0.08331555],\n",
       "        [-0.02874666, -0.07674399, -0.11440271, -0.13730878, -0.13998373,\n",
       "         -0.12641636, -0.10048065],\n",
       "        [-0.06586082, -0.08039068, -0.09174092, -0.07055084, -0.0390115 ,\n",
       "         -0.02588682, -0.00479862],\n",
       "        [-0.03722067, -0.01418383,  0.0072077 ,  0.04982315,  0.08338538,\n",
       "          0.06537562,  0.05121973],\n",
       "        [ 0.04100299,  0.06384245,  0.07978272,  0.08332521,  0.082433  ,\n",
       "          0.03156103,  0.01439718]],\n",
       "\n",
       "       [[ 0.03847783,  0.07092094,  0.0959575 ,  0.11260303,  0.08716433,\n",
       "          0.06934885,  0.03955302],\n",
       "        [ 0.1137189 ,  0.12945727,  0.12917131,  0.10784075,  0.04773989,\n",
       "          0.01424819, -0.03682533],\n",
       "        [ 0.07671945,  0.04690662,  0.01045982, -0.03362985, -0.09270442,\n",
       "         -0.09734753, -0.10887107],\n",
       "        [-0.0444563 , -0.09283359, -0.14948863, -0.17099926, -0.18635793,\n",
       "         -0.15795279, -0.13028647],\n",
       "        [-0.09740911, -0.11031818, -0.13368763, -0.10072896, -0.07318679,\n",
       "         -0.04162221, -0.01942634],\n",
       "        [-0.06235784, -0.0295576 , -0.01149722,  0.04790862,  0.08051248,\n",
       "          0.07668999,  0.05728799],\n",
       "        [ 0.03338547,  0.07335793,  0.08975421,  0.11035826,  0.10491601,\n",
       "          0.0645581 ,  0.03795421]],\n",
       "\n",
       "       [[ 0.03255299,  0.05110734,  0.08086216,  0.08938966,  0.07402986,\n",
       "          0.0518801 ,  0.02995383],\n",
       "        [ 0.11320969,  0.11547723,  0.12107202,  0.09288295,  0.04424085,\n",
       "          0.00533183, -0.03988756],\n",
       "        [ 0.08205796,  0.04265503,  0.01506102, -0.03470007, -0.08395159,\n",
       "         -0.09585628, -0.10398778],\n",
       "        [-0.03259365, -0.08704484, -0.13481469, -0.16207834, -0.16951641,\n",
       "         -0.15112592, -0.12041606],\n",
       "        [-0.08401604, -0.1035767 , -0.11835054, -0.09386368, -0.06054021,\n",
       "         -0.03887803, -0.01182559],\n",
       "        [-0.05254844, -0.02919538, -0.00573708,  0.04406214,  0.08207894,\n",
       "          0.07220601,  0.06397042],\n",
       "        [ 0.04217663,  0.07012145,  0.08967672,  0.10040171,  0.10208978,\n",
       "          0.05964318,  0.04800854]]], dtype=float32)"
      ]
     },
     "execution_count": 27,
     "output_type": "execute_result",
     "metadata": {}
    }
   ],
   "source": [
    "vgg_cnn_s[0][0][0]"
   ]
  },
  {
   "cell_type": "code",
   "execution_count": 18,
   "metadata": {},
   "outputs": [
    {
     "name": "stdout",
     "output_type": "stream",
     "text": [
      "weights contains: \n",
      "Root attributes:\n",
      "  nb_layers: 23\n",
      "  layer_0\n",
      "    Attributes:\n",
      "      nb_params: 2\n",
      "    Dataset:\n",
      "      param_0: (96, 3, 7, 7)\n",
      "      param_1: (96,)\n",
      "  layer_1\n",
      "    Attributes:\n",
      "      nb_params: 0\n",
      "    Dataset:\n",
      "  layer_10\n",
      "    Attributes:\n",
      "      nb_params: 0\n",
      "    Dataset:\n",
      "  layer_11\n",
      "    Attributes:\n",
      "      nb_params: 2\n",
      "    Dataset:\n",
      "      param_0: (512, 512, 3, 3)\n",
      "      param_1: (512,)\n",
      "  layer_12\n",
      "    Attributes:\n",
      "      nb_params: 0\n",
      "    Dataset:\n",
      "  layer_13\n",
      "    Attributes:\n",
      "      nb_params: 0\n",
      "    Dataset:\n",
      "  layer_14\n",
      "    Attributes:\n",
      "      nb_params: 2\n",
      "    Dataset:\n",
      "      param_0: (512, 512, 3, 3)\n",
      "      param_1: (512,)\n",
      "  layer_15\n",
      "    Attributes:\n",
      "      nb_params: 0\n",
      "    Dataset:\n",
      "  layer_16\n",
      "    Attributes:\n",
      "      nb_params: 0\n",
      "    Dataset:\n",
      "  layer_17\n",
      "    Attributes:\n",
      "      nb_params: 0\n",
      "    Dataset:\n",
      "  layer_18\n",
      "    Attributes:\n",
      "      nb_params: 2\n",
      "    Dataset:\n",
      "      param_0: (50688, 512)\n",
      "      param_1: (512,)\n",
      "  layer_19\n",
      "    Attributes:\n",
      "      nb_params: 0\n",
      "    Dataset:\n",
      "  layer_2\n",
      "    Attributes:\n",
      "      nb_params: 0\n",
      "    Dataset:\n",
      "  layer_20\n",
      "    Attributes:\n",
      "      nb_params: 0\n",
      "    Dataset:\n",
      "  layer_21\n",
      "    Attributes:\n",
      "      nb_params: 2\n",
      "    Dataset:\n",
      "      param_0: (512, 102)\n",
      "      param_1: (102,)\n",
      "  layer_22\n",
      "    Attributes:\n",
      "      nb_params: 0\n",
      "    Dataset:\n",
      "  layer_3\n",
      "    Attributes:\n",
      "      nb_params: 0\n",
      "    Dataset:\n",
      "  layer_4\n",
      "    Attributes:\n",
      "      nb_params: 2\n",
      "    Dataset:\n",
      "      param_0: (256, 96, 5, 5)\n",
      "      param_1: (256,)\n",
      "  layer_5\n",
      "    Attributes:\n",
      "      nb_params: 0\n",
      "    Dataset:\n",
      "  layer_6\n",
      "    Attributes:\n",
      "      nb_params: 0\n",
      "    Dataset:\n",
      "  layer_7\n",
      "    Attributes:\n",
      "      nb_params: 0\n",
      "    Dataset:\n",
      "  layer_8\n",
      "    Attributes:\n",
      "      nb_params: 2\n",
      "    Dataset:\n",
      "      param_0: (512, 256, 3, 3)\n",
      "      param_1: (512,)\n",
      "  layer_9\n",
      "    Attributes:\n",
      "      nb_params: 0\n",
      "    Dataset:\n"
     ]
    }
   ],
   "source": [
    "change_weights('weights','')"
   ]
  },
  {
   "cell_type": "code",
   "execution_count": 28,
   "metadata": {},
   "outputs": [],
   "source": [
    "import datetime\n",
    "dt = datetime.datetime.now()"
   ]
  },
  {
   "cell_type": "code",
   "execution_count": 29,
   "metadata": {},
   "outputs": [
    {
     "data": {
      "text/plain": [
       "datetime.datetime(2015, 9, 28, 16, 19, 43, 958087)"
      ]
     },
     "execution_count": 29,
     "output_type": "execute_result",
     "metadata": {}
    }
   ],
   "source": [
    "dt"
   ]
  },
  {
   "cell_type": "code",
   "execution_count": 34,
   "metadata": {},
   "outputs": [
    {
     "name": "stdout",
     "output_type": "stream",
     "text": [
      "2015-09-28_16:19:43.json\n"
     ]
    }
   ],
   "source": [
    "print('{:%Y-%m-%d_%H:%M:%S}.json'.format(dt))"
   ]
  },
  {
   "cell_type": "code",
   "execution_count": null,
   "metadata": {},
   "outputs": [],
   "source": [
    ""
   ]
  }
 ],
 "metadata": {
  "kernelspec": {
   "display_name": "Python 2",
   "language": "python",
   "name": "python2"
  },
  "language_info": {
   "codemirror_mode": {
    "name": "ipython",
    "version": 2.0
   },
   "file_extension": ".py",
   "mimetype": "text/x-python",
   "name": "python",
   "nbconvert_exporter": "python",
   "pygments_lexer": "ipython2",
   "version": "2.7.10"
  }
 },
 "nbformat": 4,
 "nbformat_minor": 0
}